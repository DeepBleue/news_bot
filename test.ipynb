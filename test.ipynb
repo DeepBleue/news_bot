{
 "cells": [
  {
   "cell_type": "code",
   "execution_count": 2,
   "metadata": {},
   "outputs": [],
   "source": [
    "from datetime import datetime\n",
    "\n",
    "title = 'hello'\n",
    "filename = 'a.txt'\n",
    "current_time = datetime.now()\n",
    "formatted_time = current_time.strftime(f\"%H:%M:%S:%f\")\n",
    "with open(filename, 'a', encoding = 'utf-8') as file:\n",
    "    file.write(f\"{title} - time : {formatted_time} \\n\")"
   ]
  },
  {
   "cell_type": "code",
   "execution_count": 5,
   "metadata": {},
   "outputs": [],
   "source": [
    "\n",
    "\n",
    "\n",
    "\n",
    "# Example usage\n",
    "speak(\"안녕하세요. 길동씨\")\n"
   ]
  }
 ],
 "metadata": {
  "kernelspec": {
   "display_name": "news_bot",
   "language": "python",
   "name": "python3"
  },
  "language_info": {
   "codemirror_mode": {
    "name": "ipython",
    "version": 3
   },
   "file_extension": ".py",
   "mimetype": "text/x-python",
   "name": "python",
   "nbconvert_exporter": "python",
   "pygments_lexer": "ipython3",
   "version": "3.10.13"
  }
 },
 "nbformat": 4,
 "nbformat_minor": 2
}
